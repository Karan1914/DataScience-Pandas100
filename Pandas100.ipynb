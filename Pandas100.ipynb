{
  "nbformat": 4,
  "nbformat_minor": 0,
  "metadata": {
    "colab": {
      "name": "Pandas100.ipynb",
      "provenance": [],
      "authorship_tag": "ABX9TyPE2ZXWpnMWUXMxEVk0kD9+",
      "include_colab_link": true
    },
    "kernelspec": {
      "name": "python3",
      "display_name": "Python 3"
    }
  },
  "cells": [
    {
      "cell_type": "markdown",
      "metadata": {
        "id": "view-in-github",
        "colab_type": "text"
      },
      "source": [
        "<a href=\"https://colab.research.google.com/github/Karan1914/DataScience-Pandas100/blob/master/Pandas100.ipynb\" target=\"_parent\"><img src=\"https://colab.research.google.com/assets/colab-badge.svg\" alt=\"Open In Colab\"/></a>"
      ]
    },
    {
      "cell_type": "markdown",
      "metadata": {
        "id": "wbTFYuq9PY5l",
        "colab_type": "text"
      },
      "source": [
        "[Github_Link](https://github.com/Karan1914/DataScience-Pandas100)"
      ]
    },
    {
      "cell_type": "markdown",
      "metadata": {
        "id": "i3bCmW6gPhS-",
        "colab_type": "text"
      },
      "source": [
        "**THIS FILE IS FOR 100 PANDAS PRACTICE QUESTIONS**"
      ]
    },
    {
      "cell_type": "code",
      "metadata": {
        "id": "xBgogEHDMtAt",
        "colab_type": "code",
        "colab": {
          "base_uri": "https://localhost:8080/",
          "height": 34
        },
        "outputId": "f9a836f2-110f-489b-f05b-239328c3275c"
      },
      "source": [
        "# Q1 : Import and check pandas version\n",
        "import pandas as pd\n",
        "print(pd.__version__)"
      ],
      "execution_count": 2,
      "outputs": [
        {
          "output_type": "stream",
          "text": [
            "1.0.5\n"
          ],
          "name": "stdout"
        }
      ]
    },
    {
      "cell_type": "markdown",
      "metadata": {
        "id": "3ENbCdBePYBk",
        "colab_type": "text"
      },
      "source": [
        ""
      ]
    },
    {
      "cell_type": "code",
      "metadata": {
        "id": "pLGTVFrjQuyL",
        "colab_type": "code",
        "colab": {
          "base_uri": "https://localhost:8080/",
          "height": 102
        },
        "outputId": "67bfe4a3-4135-43bf-97e5-034e853c37fd"
      },
      "source": [
        "# Q2 : From the given list, create a pandas Series object and print it on the screen\n",
        "# stocks = ['PLW', 'CDR', '11B', 'TEN']\n",
        "\n",
        "stocks = ['PLW', 'CDR', '11B', 'TEN']\n",
        "print(pd.Series(stocks))"
      ],
      "execution_count": 3,
      "outputs": [
        {
          "output_type": "stream",
          "text": [
            "0    PLW\n",
            "1    CDR\n",
            "2    11B\n",
            "3    TEN\n",
            "dtype: object\n"
          ],
          "name": "stdout"
        }
      ]
    },
    {
      "cell_type": "code",
      "metadata": {
        "id": "fYzIoR4lQu68",
        "colab_type": "code",
        "colab": {
          "base_uri": "https://localhost:8080/",
          "height": 102
        },
        "outputId": "7be96497-6db2-4eeb-cccc-6cf0edb897e0"
      },
      "source": [
        "# From a dictionary below , create an Series object and assign it to quotation variable and print it on the screen\n",
        "\n",
        "stocks = {'PLW': 387.00, 'CDR': 339.5, 'TEN': 349.5, '11B': 391.0}\n",
        "\n",
        "quotation = pd.Series(data=stocks)\n",
        "\n",
        "print(quotation)"
      ],
      "execution_count": 4,
      "outputs": [
        {
          "output_type": "stream",
          "text": [
            "PLW    387.0\n",
            "CDR    339.5\n",
            "TEN    349.5\n",
            "11B    391.0\n",
            "dtype: float64\n"
          ],
          "name": "stdout"
        }
      ]
    },
    {
      "cell_type": "code",
      "metadata": {
        "id": "csCSzHywRyU5",
        "colab_type": "code",
        "colab": {
          "base_uri": "https://localhost:8080/",
          "height": 34
        },
        "outputId": "17065b07-7b24-4c16-a115-67b687963e4b"
      },
      "source": [
        "# Convert the above variable quotation to the list and print the result\n",
        "\n",
        "# print(list(quotation))\n",
        "\n",
        "# or \n",
        "quotation = quotation.tolist()\n",
        "print(quotation)"
      ],
      "execution_count": 8,
      "outputs": [
        {
          "output_type": "stream",
          "text": [
            "[387.0, 339.5, 349.5, 391.0]\n"
          ],
          "name": "stdout"
        }
      ]
    },
    {
      "cell_type": "code",
      "metadata": {
        "id": "_JgE75MrSHgH",
        "colab_type": "code",
        "colab": {
          "base_uri": "https://localhost:8080/",
          "height": 102
        },
        "outputId": "5dc8e5e0-18b5-458c-b962-b31a0fc251ea"
      },
      "source": [
        "# Convert the quotations to the DataFrame object, set the column name to price \n",
        "\n",
        "stocks = {'PLW': 387.00, 'CDR': 339.5, 'TEN': 349.5, '11B': 391.0}\n",
        "quotations = pd.Series(data=stocks)\n",
        "\n",
        "quotations = pd.DataFrame(quotations, columns=['price'])\n",
        "print(quotations)"
      ],
      "execution_count": 11,
      "outputs": [
        {
          "output_type": "stream",
          "text": [
            "     price\n",
            "PLW  387.0\n",
            "CDR  339.5\n",
            "TEN  349.5\n",
            "11B  391.0\n"
          ],
          "name": "stdout"
        }
      ]
    },
    {
      "cell_type": "code",
      "metadata": {
        "id": "ECpFTIQ0S1d7",
        "colab_type": "code",
        "colab": {
          "base_uri": "https://localhost:8080/",
          "height": 187
        },
        "outputId": "70a1e2f9-2b80-4baf-cc5b-3cb94d1654ef"
      },
      "source": [
        "import numpy as np\n",
        "import pandas as pd\n",
        "\n",
        "ind = np.arange(101,110,1)\n",
        "value = np.arange(10.0,100.0,10.0)\n",
        "\n",
        "Ser = pd.Series(value,index=ind)\n",
        "print(Ser)\n",
        "\n",
        "# s = pd.Series(data=np.arange(10, 100, 10), index=np.arange(101, 110), dtype='float')\n",
        "# print(s)"
      ],
      "execution_count": 15,
      "outputs": [
        {
          "output_type": "stream",
          "text": [
            "101    10.0\n",
            "102    20.0\n",
            "103    30.0\n",
            "104    40.0\n",
            "105    50.0\n",
            "106    60.0\n",
            "107    70.0\n",
            "108    80.0\n",
            "109    90.0\n",
            "dtype: float64\n"
          ],
          "name": "stdout"
        }
      ]
    },
    {
      "cell_type": "code",
      "metadata": {
        "id": "OMCmoQgkUPy8",
        "colab_type": "code",
        "colab": {
          "base_uri": "https://localhost:8080/",
          "height": 102
        },
        "outputId": "bb97879a-b081-410b-b95c-d441d1ca0b65"
      },
      "source": [
        "# Convert the following list type to int\n",
        "\n",
        "series = pd.Series(['001', '002', '003', '004'], list('abcd'))\n",
        "\n",
        "# series = pd.to_numeric(series)\n",
        "\n",
        "series = series.astype(int)\n",
        "print(series)\n"
      ],
      "execution_count": 22,
      "outputs": [
        {
          "output_type": "stream",
          "text": [
            "a    1\n",
            "b    2\n",
            "c    3\n",
            "d    4\n",
            "dtype: int64\n"
          ],
          "name": "stdout"
        }
      ]
    },
    {
      "cell_type": "code",
      "metadata": {
        "id": "C0to1hT-TnqB",
        "colab_type": "code",
        "colab": {
          "base_uri": "https://localhost:8080/",
          "height": 136
        },
        "outputId": "37a46a94-597b-4c79-f9f3-b9914e502740"
      },
      "source": [
        "\"\"\" stocks = {'PLW': 387.00, 'CDR': 339.5, 'TEN': 349.5, '11B': 391.0}\n",
        "quotations = pd.Series(data=stocks) \"\"\"\n",
        "# Add 2 key elements in the above series : key:\"BBT\" value :25.5 , key:\"F51\" value =19.2\n",
        "\n",
        "stocks = {'PLW': 387.00, 'CDR': 339.5, 'TEN': 349.5, '11B': 391.0}\n",
        "quotations = pd.Series(data=stocks)\n",
        "\n",
        "quotations[\"BBT\"] = 25.5\n",
        "\n",
        "quotations[\"F51\"] = 19.2\n",
        "\n",
        "# quotations = quotations.append(pd.Series({'BBT': 25.5, 'F51': 19.2}))\n",
        "print(quotations)\n"
      ],
      "execution_count": 26,
      "outputs": [
        {
          "output_type": "stream",
          "text": [
            "PLW    387.0\n",
            "CDR    339.5\n",
            "TEN    349.5\n",
            "11B    391.0\n",
            "BBT     25.5\n",
            "F51     19.2\n",
            "dtype: float64\n"
          ],
          "name": "stdout"
        }
      ]
    },
    {
      "cell_type": "code",
      "metadata": {
        "id": "0R7_2_oRWsd2",
        "colab_type": "code",
        "colab": {
          "base_uri": "https://localhost:8080/",
          "height": 102
        },
        "outputId": "097281fc-dcc3-4d44-afc3-f57ca2e15ba6"
      },
      "source": [
        "\"\"\" stocks = {'PLW': 387.00, 'CDR': 339.5, 'TEN': 349.5, '11B': 391.0}\n",
        "quotations = pd.Series(data=stocks) \"\"\"\n",
        "# Reset the index and name the column as ticker and price\n",
        "\n",
        "stocks = {'PLW': 387.00, 'CDR': 339.5, 'TEN': 349.5, '11B': 391.0}\n",
        "quotations = pd.Series(data=stocks)\n",
        "\n",
        "quotations = pd.DataFrame(quotations).reset_index()\n",
        "\n",
        "quotations.columns = ['Ticker','Price']\n",
        "\n",
        "print(quotations)"
      ],
      "execution_count": 37,
      "outputs": [
        {
          "output_type": "stream",
          "text": [
            "  Ticker  Price\n",
            "0    PLW  387.0\n",
            "1    CDR  339.5\n",
            "2    TEN  349.5\n",
            "3    11B  391.0\n"
          ],
          "name": "stdout"
        }
      ]
    },
    {
      "cell_type": "code",
      "metadata": {
        "id": "zmHS5sO9Xigh",
        "colab_type": "code",
        "colab": {
          "base_uri": "https://localhost:8080/",
          "height": 85
        },
        "outputId": "78b5c427-1e1f-4c56-e919-2c03fb17f8e6"
      },
      "source": [
        "# Create and print a dataframe of companies \n",
        "\n",
        "data = {\n",
        "    'company' : [\"Amazon\",\"Microsoft\",\"Facebook\"],\n",
        "'price':[2375.0,178.6,179.2],\n",
        "'ticker':[\"AMZN.US\",\"MSFT.US\",\"FB.US\"]\n",
        "    \n",
        "}\n",
        "companies = pd.DataFrame(data)\n",
        "\n",
        "print(companies)"
      ],
      "execution_count": 38,
      "outputs": [
        {
          "output_type": "stream",
          "text": [
            "     company   price   ticker\n",
            "0     Amazon  2375.0  AMZN.US\n",
            "1  Microsoft   178.6  MSFT.US\n",
            "2   Facebook   179.2    FB.US\n"
          ],
          "name": "stdout"
        }
      ]
    },
    {
      "cell_type": "code",
      "metadata": {
        "id": "Sh4aSxwwZcjG",
        "colab_type": "code",
        "colab": {
          "base_uri": "https://localhost:8080/",
          "height": 102
        },
        "outputId": "4583b617-ec5e-4f0e-fdaa-7f4bfad6b891"
      },
      "source": [
        "# Convert the first column of the companies to index , print companies\n",
        "\n",
        "data = {\n",
        "    'company' : [\"Amazon\",\"Microsoft\",\"Facebook\"],\n",
        "'price':[2375.0,178.6,179.2],\n",
        "'ticker':[\"AMZN.US\",\"MSFT.US\",\"FB.US\"]\n",
        "    \n",
        "}\n",
        "companies = pd.DataFrame(data)\n",
        "\n",
        "companies = companies.set_index('company')\n",
        "\n",
        "print(companies)\n"
      ],
      "execution_count": 57,
      "outputs": [
        {
          "output_type": "stream",
          "text": [
            "            price   ticker\n",
            "company                   \n",
            "Amazon     2375.0  AMZN.US\n",
            "Microsoft   178.6  MSFT.US\n",
            "Facebook    179.2    FB.US\n"
          ],
          "name": "stdout"
        }
      ]
    },
    {
      "cell_type": "code",
      "metadata": {
        "id": "IZ6MMVCsZt7P",
        "colab_type": "code",
        "colab": {
          "base_uri": "https://localhost:8080/",
          "height": 232
        },
        "outputId": "4b058c90-a408-4610-9c8c-d287a0f508b3"
      },
      "source": [
        "# Build the datetimeindex object containing all dates of jan 2020 in the format yyyy-mm-dd , assign it to date range variable \n",
        "\n",
        "# answer 1\n",
        "data = pd.date_range('1/1/2020', periods = 31, freq ='D')\n",
        "\n",
        "# answer 2 \n",
        "date_range = pd.date_range(start='2020-01-01', end='2020-01-31')\n",
        "print(date_range)"
      ],
      "execution_count": 56,
      "outputs": [
        {
          "output_type": "error",
          "ename": "TypeError",
          "evalue": "ignored",
          "traceback": [
            "\u001b[0;31m---------------------------------------------------------------------------\u001b[0m",
            "\u001b[0;31mTypeError\u001b[0m                                 Traceback (most recent call last)",
            "\u001b[0;32m<ipython-input-56-524b1f82c9fd>\u001b[0m in \u001b[0;36m<module>\u001b[0;34m()\u001b[0m\n\u001b[1;32m      2\u001b[0m \u001b[0;34m\u001b[0m\u001b[0m\n\u001b[1;32m      3\u001b[0m \u001b[0;31m# answer 1\u001b[0m\u001b[0;34m\u001b[0m\u001b[0;34m\u001b[0m\u001b[0;34m\u001b[0m\u001b[0m\n\u001b[0;32m----> 4\u001b[0;31m \u001b[0mdata\u001b[0m \u001b[0;34m=\u001b[0m \u001b[0mpd\u001b[0m\u001b[0;34m.\u001b[0m\u001b[0mdate_range\u001b[0m\u001b[0;34m(\u001b[0m\u001b[0;34m'1/1/2020'\u001b[0m\u001b[0;34m,\u001b[0m \u001b[0mperiods\u001b[0m \u001b[0;34m=\u001b[0m \u001b[0;36m31\u001b[0m\u001b[0;34m,\u001b[0m \u001b[0mfreq\u001b[0m \u001b[0;34m=\u001b[0m\u001b[0;34m'D'\u001b[0m\u001b[0;34m)\u001b[0m\u001b[0;34m\u001b[0m\u001b[0;34m\u001b[0m\u001b[0m\n\u001b[0m\u001b[1;32m      5\u001b[0m \u001b[0;34m\u001b[0m\u001b[0m\n\u001b[1;32m      6\u001b[0m \u001b[0;31m# answer 2\u001b[0m\u001b[0;34m\u001b[0m\u001b[0;34m\u001b[0m\u001b[0;34m\u001b[0m\u001b[0m\n",
            "\u001b[0;31mTypeError\u001b[0m: 'DatetimeIndex' object is not callable"
          ]
        }
      ]
    },
    {
      "cell_type": "code",
      "metadata": {
        "id": "z6aaXqHxbn6S",
        "colab_type": "code",
        "colab": {
          "base_uri": "https://localhost:8080/",
          "height": 181
        },
        "outputId": "56e12a61-e5a8-486f-f6e2-51f906123b46"
      },
      "source": [
        "data = pd.date_range('1/1/2020', periods = 31, freq ='D')\n",
        "print(data)"
      ],
      "execution_count": 58,
      "outputs": [
        {
          "output_type": "error",
          "ename": "TypeError",
          "evalue": "ignored",
          "traceback": [
            "\u001b[0;31m---------------------------------------------------------------------------\u001b[0m",
            "\u001b[0;31mTypeError\u001b[0m                                 Traceback (most recent call last)",
            "\u001b[0;32m<ipython-input-58-99f4072715ac>\u001b[0m in \u001b[0;36m<module>\u001b[0;34m()\u001b[0m\n\u001b[0;32m----> 1\u001b[0;31m \u001b[0mdata\u001b[0m \u001b[0;34m=\u001b[0m \u001b[0mpd\u001b[0m\u001b[0;34m.\u001b[0m\u001b[0mdate_range\u001b[0m\u001b[0;34m(\u001b[0m\u001b[0;34m'1/1/2020'\u001b[0m\u001b[0;34m,\u001b[0m \u001b[0mperiods\u001b[0m \u001b[0;34m=\u001b[0m \u001b[0;36m31\u001b[0m\u001b[0;34m,\u001b[0m \u001b[0mfreq\u001b[0m \u001b[0;34m=\u001b[0m\u001b[0;34m'D'\u001b[0m\u001b[0;34m)\u001b[0m\u001b[0;34m\u001b[0m\u001b[0;34m\u001b[0m\u001b[0m\n\u001b[0m\u001b[1;32m      2\u001b[0m \u001b[0mprint\u001b[0m\u001b[0;34m(\u001b[0m\u001b[0mdata\u001b[0m\u001b[0;34m)\u001b[0m\u001b[0;34m\u001b[0m\u001b[0;34m\u001b[0m\u001b[0m\n",
            "\u001b[0;31mTypeError\u001b[0m: 'DatetimeIndex' object is not callable"
          ]
        }
      ]
    },
    {
      "cell_type": "code",
      "metadata": {
        "id": "QqJMHX56bo7E",
        "colab_type": "code",
        "colab": {
          "base_uri": "https://localhost:8080/",
          "height": 215
        },
        "outputId": "54d5a21c-9d73-4b4b-e4de-b359672a06eb"
      },
      "source": [
        "# Build the datetimeindex object containing all mondays of 2020 in the format yyyy-mm-dd , assign it to date range variable \n",
        "import pandas as pd\n",
        " \n",
        " \n",
        "date_range = pd.date_range(start='2020-01-01', periods=52, freq='W-MON')\n",
        "print(date_range)"
      ],
      "execution_count": 60,
      "outputs": [
        {
          "output_type": "error",
          "ename": "TypeError",
          "evalue": "ignored",
          "traceback": [
            "\u001b[0;31m---------------------------------------------------------------------------\u001b[0m",
            "\u001b[0;31mTypeError\u001b[0m                                 Traceback (most recent call last)",
            "\u001b[0;32m<ipython-input-60-131ca49c1515>\u001b[0m in \u001b[0;36m<module>\u001b[0;34m()\u001b[0m\n\u001b[1;32m      3\u001b[0m \u001b[0;32mimport\u001b[0m \u001b[0mdatetime\u001b[0m\u001b[0;34m\u001b[0m\u001b[0;34m\u001b[0m\u001b[0m\n\u001b[1;32m      4\u001b[0m \u001b[0;34m\u001b[0m\u001b[0m\n\u001b[0;32m----> 5\u001b[0;31m \u001b[0mdate_range\u001b[0m \u001b[0;34m=\u001b[0m \u001b[0mpd\u001b[0m\u001b[0;34m.\u001b[0m\u001b[0mdate_range\u001b[0m\u001b[0;34m(\u001b[0m\u001b[0mstart\u001b[0m\u001b[0;34m=\u001b[0m\u001b[0;34m'2020-01-01'\u001b[0m\u001b[0;34m,\u001b[0m \u001b[0mperiods\u001b[0m\u001b[0;34m=\u001b[0m\u001b[0;36m52\u001b[0m\u001b[0;34m,\u001b[0m \u001b[0mfreq\u001b[0m\u001b[0;34m=\u001b[0m\u001b[0;34m'W-MON'\u001b[0m\u001b[0;34m)\u001b[0m\u001b[0;34m\u001b[0m\u001b[0;34m\u001b[0m\u001b[0m\n\u001b[0m\u001b[1;32m      6\u001b[0m \u001b[0mprint\u001b[0m\u001b[0;34m(\u001b[0m\u001b[0mdate_range\u001b[0m\u001b[0;34m)\u001b[0m\u001b[0;34m\u001b[0m\u001b[0;34m\u001b[0m\u001b[0m\n",
            "\u001b[0;31mTypeError\u001b[0m: 'DatetimeIndex' object is not callable"
          ]
        }
      ]
    },
    {
      "cell_type": "code",
      "metadata": {
        "id": "TNXDax9veOJf",
        "colab_type": "code",
        "colab": {
          "base_uri": "https://localhost:8080/",
          "height": 255
        },
        "outputId": "18f887c2-1bf4-4d31-9adc-bbee1981160f"
      },
      "source": [
        "import pandas as pd\n",
        " \n",
        " \n",
        "date_range = pd.date_range(start='2020-01-01', end='2020-12-31', freq='W-MON')\n",
        "print(date_range)"
      ],
      "execution_count": 2,
      "outputs": [
        {
          "output_type": "stream",
          "text": [
            "DatetimeIndex(['2020-01-06', '2020-01-13', '2020-01-20', '2020-01-27',\n",
            "               '2020-02-03', '2020-02-10', '2020-02-17', '2020-02-24',\n",
            "               '2020-03-02', '2020-03-09', '2020-03-16', '2020-03-23',\n",
            "               '2020-03-30', '2020-04-06', '2020-04-13', '2020-04-20',\n",
            "               '2020-04-27', '2020-05-04', '2020-05-11', '2020-05-18',\n",
            "               '2020-05-25', '2020-06-01', '2020-06-08', '2020-06-15',\n",
            "               '2020-06-22', '2020-06-29', '2020-07-06', '2020-07-13',\n",
            "               '2020-07-20', '2020-07-27', '2020-08-03', '2020-08-10',\n",
            "               '2020-08-17', '2020-08-24', '2020-08-31', '2020-09-07',\n",
            "               '2020-09-14', '2020-09-21', '2020-09-28', '2020-10-05',\n",
            "               '2020-10-12', '2020-10-19', '2020-10-26', '2020-11-02',\n",
            "               '2020-11-09', '2020-11-16', '2020-11-23', '2020-11-30',\n",
            "               '2020-12-07', '2020-12-14', '2020-12-21', '2020-12-28'],\n",
            "              dtype='datetime64[ns]', freq='W-MON')\n"
          ],
          "name": "stdout"
        }
      ]
    },
    {
      "cell_type": "code",
      "metadata": {
        "id": "h_nzGjNodP3j",
        "colab_type": "code",
        "colab": {
          "base_uri": "https://localhost:8080/",
          "height": 459
        },
        "outputId": "8f6d431e-4b0b-403b-cfcc-f03729a4277b"
      },
      "source": [
        "date_range = pd.date_range('1/1/2021', periods = 24, freq ='H')\n",
        "print(date_range)\n",
        "\n",
        "# or\n",
        "\n",
        "\n",
        " \n",
        " \n",
        "date_range = pd.date_range(start='2021-01-01', end='2021-01-02', freq='H', closed='left')\n",
        "print(date_range)\n"
      ],
      "execution_count": 3,
      "outputs": [
        {
          "output_type": "stream",
          "text": [
            "DatetimeIndex(['2021-01-01 00:00:00', '2021-01-01 01:00:00',\n",
            "               '2021-01-01 02:00:00', '2021-01-01 03:00:00',\n",
            "               '2021-01-01 04:00:00', '2021-01-01 05:00:00',\n",
            "               '2021-01-01 06:00:00', '2021-01-01 07:00:00',\n",
            "               '2021-01-01 08:00:00', '2021-01-01 09:00:00',\n",
            "               '2021-01-01 10:00:00', '2021-01-01 11:00:00',\n",
            "               '2021-01-01 12:00:00', '2021-01-01 13:00:00',\n",
            "               '2021-01-01 14:00:00', '2021-01-01 15:00:00',\n",
            "               '2021-01-01 16:00:00', '2021-01-01 17:00:00',\n",
            "               '2021-01-01 18:00:00', '2021-01-01 19:00:00',\n",
            "               '2021-01-01 20:00:00', '2021-01-01 21:00:00',\n",
            "               '2021-01-01 22:00:00', '2021-01-01 23:00:00'],\n",
            "              dtype='datetime64[ns]', freq='H')\n",
            "DatetimeIndex(['2021-01-01 00:00:00', '2021-01-01 01:00:00',\n",
            "               '2021-01-01 02:00:00', '2021-01-01 03:00:00',\n",
            "               '2021-01-01 04:00:00', '2021-01-01 05:00:00',\n",
            "               '2021-01-01 06:00:00', '2021-01-01 07:00:00',\n",
            "               '2021-01-01 08:00:00', '2021-01-01 09:00:00',\n",
            "               '2021-01-01 10:00:00', '2021-01-01 11:00:00',\n",
            "               '2021-01-01 12:00:00', '2021-01-01 13:00:00',\n",
            "               '2021-01-01 14:00:00', '2021-01-01 15:00:00',\n",
            "               '2021-01-01 16:00:00', '2021-01-01 17:00:00',\n",
            "               '2021-01-01 18:00:00', '2021-01-01 19:00:00',\n",
            "               '2021-01-01 20:00:00', '2021-01-01 21:00:00',\n",
            "               '2021-01-01 22:00:00', '2021-01-01 23:00:00'],\n",
            "              dtype='datetime64[ns]', freq='H')\n"
          ],
          "name": "stdout"
        }
      ]
    },
    {
      "cell_type": "code",
      "metadata": {
        "id": "1w3aLKaRew3P",
        "colab_type": "code",
        "colab": {
          "base_uri": "https://localhost:8080/",
          "height": 561
        },
        "outputId": "45ccdf22-16ea-4bde-b6db-56e13cfac577"
      },
      "source": [
        "import numpy as np\n",
        "day = pd.date_range(start='2021-03-01',end='2021-03-31')\n",
        "#print(day)\n",
        "day_of_year = np.arange(60,91,1)\n",
        "#print(day_of_year)\n",
        "\n",
        "df = pd.DataFrame(columns=['day','day_of_year'])\n",
        "df['day'] = day\n",
        "df['day_of_year'] = day_of_year\n",
        "\n",
        "print(df)\n",
        "\n",
        "\n",
        "# Solution 2 \n",
        "import pandas as pd\n",
        " \n",
        " \n",
        "date_range = pd.date_range(start='2021-03-01', periods=31)\n",
        "df = pd.DataFrame(data=date_range, columns=['day'])\n",
        "df['day_of_year'] = df['day'].dt.dayofyear\n",
        "print(df)"
      ],
      "execution_count": 12,
      "outputs": [
        {
          "output_type": "stream",
          "text": [
            "          day  day_of_year\n",
            "0  2021-03-01           60\n",
            "1  2021-03-02           61\n",
            "2  2021-03-03           62\n",
            "3  2021-03-04           63\n",
            "4  2021-03-05           64\n",
            "5  2021-03-06           65\n",
            "6  2021-03-07           66\n",
            "7  2021-03-08           67\n",
            "8  2021-03-09           68\n",
            "9  2021-03-10           69\n",
            "10 2021-03-11           70\n",
            "11 2021-03-12           71\n",
            "12 2021-03-13           72\n",
            "13 2021-03-14           73\n",
            "14 2021-03-15           74\n",
            "15 2021-03-16           75\n",
            "16 2021-03-17           76\n",
            "17 2021-03-18           77\n",
            "18 2021-03-19           78\n",
            "19 2021-03-20           79\n",
            "20 2021-03-21           80\n",
            "21 2021-03-22           81\n",
            "22 2021-03-23           82\n",
            "23 2021-03-24           83\n",
            "24 2021-03-25           84\n",
            "25 2021-03-26           85\n",
            "26 2021-03-27           86\n",
            "27 2021-03-28           87\n",
            "28 2021-03-29           88\n",
            "29 2021-03-30           89\n",
            "30 2021-03-31           90\n"
          ],
          "name": "stdout"
        }
      ]
    },
    {
      "cell_type": "code",
      "metadata": {
        "id": "sP_O0oHWhW-2",
        "colab_type": "code",
        "colab": {
          "base_uri": "https://localhost:8080/",
          "height": 255
        },
        "outputId": "656ae8f0-92e0-4804-8b65-0d8ff784c8d8"
      },
      "source": [
        "import numpy as np\n",
        "import pandas as pd\n",
        "\n",
        "\n",
        "np.random.seed(42)\n",
        "data_dict = {\n",
        "    'normal': np.random.normal(loc=0, scale=1, size=1000),\n",
        "    'uniform': np.random.uniform(low=0, high=1, size=1000),\n",
        "    'binomial': np.random.binomial(n=1, p=0.2, size=1000)\n",
        "}\n",
        "df = pd.DataFrame(data_dict,index=pd.date_range(start='2020-01-01',periods=1000))\n",
        "print(df)"
      ],
      "execution_count": 21,
      "outputs": [
        {
          "output_type": "stream",
          "text": [
            "              normal   uniform  binomial\n",
            "2020-01-01  0.496714  0.167483         0\n",
            "2020-01-02 -0.138264  0.104568         0\n",
            "2020-01-03  0.647689  0.636430         0\n",
            "2020-01-04  1.523030  0.706476         0\n",
            "2020-01-05 -0.234153  0.031586         1\n",
            "...              ...       ...       ...\n",
            "2022-09-22 -0.281100  0.280683         1\n",
            "2022-09-23  1.797687  0.206993         0\n",
            "2022-09-24  0.640843  0.516573         0\n",
            "2022-09-25 -0.571179  0.005506         1\n",
            "2022-09-26  0.572583  0.007664         0\n",
            "\n",
            "[1000 rows x 3 columns]\n"
          ],
          "name": "stdout"
        }
      ]
    },
    {
      "cell_type": "code",
      "metadata": {
        "id": "lH1QuY5af3cg",
        "colab_type": "code",
        "colab": {
          "base_uri": "https://localhost:8080/",
          "height": 323
        },
        "outputId": "fe4b3f43-ad6e-43c5-f4fb-2755df8365a4"
      },
      "source": [
        "# print first 10 rows , then one line blank , then last 5 rows\n",
        "print(df.head(10))\n",
        "print()\n",
        "print(df.tail())\n"
      ],
      "execution_count": 22,
      "outputs": [
        {
          "output_type": "stream",
          "text": [
            "              normal   uniform  binomial\n",
            "2020-01-01  0.496714  0.167483         0\n",
            "2020-01-02 -0.138264  0.104568         0\n",
            "2020-01-03  0.647689  0.636430         0\n",
            "2020-01-04  1.523030  0.706476         0\n",
            "2020-01-05 -0.234153  0.031586         1\n",
            "2020-01-06 -0.234137  0.936212         0\n",
            "2020-01-07  1.579213  0.051971         0\n",
            "2020-01-08  0.767435  0.541296         0\n",
            "2020-01-09 -0.469474  0.709061         1\n",
            "2020-01-10  0.542560  0.870969         0\n",
            "\n",
            "              normal   uniform  binomial\n",
            "2022-09-22 -0.281100  0.280683         1\n",
            "2022-09-23  1.797687  0.206993         0\n",
            "2022-09-24  0.640843  0.516573         0\n",
            "2022-09-25 -0.571179  0.005506         1\n",
            "2022-09-26  0.572583  0.007664         0\n"
          ],
          "name": "stdout"
        }
      ]
    },
    {
      "cell_type": "code",
      "metadata": {
        "id": "Kdp0nNrGibEJ",
        "colab_type": "code",
        "colab": {
          "base_uri": "https://localhost:8080/",
          "height": 374
        },
        "outputId": "2dce07cb-549b-4362-b12f-04969f256e30"
      },
      "source": [
        "# use info and describe on dataframe\n",
        "\n",
        "print(df.info())\n",
        "print(df.describe())"
      ],
      "execution_count": 23,
      "outputs": [
        {
          "output_type": "stream",
          "text": [
            "<class 'pandas.core.frame.DataFrame'>\n",
            "DatetimeIndex: 1000 entries, 2020-01-01 to 2022-09-26\n",
            "Freq: D\n",
            "Data columns (total 3 columns):\n",
            " #   Column    Non-Null Count  Dtype  \n",
            "---  ------    --------------  -----  \n",
            " 0   normal    1000 non-null   float64\n",
            " 1   uniform   1000 non-null   float64\n",
            " 2   binomial  1000 non-null   int64  \n",
            "dtypes: float64(2), int64(1)\n",
            "memory usage: 31.2 KB\n",
            "None\n",
            "            normal      uniform    binomial\n",
            "count  1000.000000  1000.000000  1000.00000\n",
            "mean      0.019332     0.503649     0.19200\n",
            "std       0.979216     0.288357     0.39407\n",
            "min      -3.241267     0.003218     0.00000\n",
            "25%      -0.647590     0.247199     0.00000\n",
            "50%       0.025301     0.516126     0.00000\n",
            "75%       0.647944     0.746319     0.00000\n",
            "max       3.852731     0.999414     1.00000\n"
          ],
          "name": "stdout"
        }
      ]
    },
    {
      "cell_type": "code",
      "metadata": {
        "id": "YEZWdVkki0sw",
        "colab_type": "code",
        "colab": {
          "base_uri": "https://localhost:8080/",
          "height": 68
        },
        "outputId": "04172f79-9409-42c6-c2d5-546385ee9865"
      },
      "source": [
        "# find the distribution of binomial values\n",
        "\n",
        "df['binomial'].value_counts()"
      ],
      "execution_count": 24,
      "outputs": [
        {
          "output_type": "execute_result",
          "data": {
            "text/plain": [
              "0    808\n",
              "1    192\n",
              "Name: binomial, dtype: int64"
            ]
          },
          "metadata": {
            "tags": []
          },
          "execution_count": 24
        }
      ]
    },
    {
      "cell_type": "code",
      "metadata": {
        "id": "2Bu1_FBOjPWa",
        "colab_type": "code",
        "colab": {}
      },
      "source": [
        "# Extract first 50 records from df and save it to dataframe50.csv\n",
        "\n",
        "# df.head(50).to_csv('dataframe50.csv')\n",
        "df[:50].to_csv('dataframe50.csv', sep=',')"
      ],
      "execution_count": 25,
      "outputs": []
    },
    {
      "cell_type": "code",
      "metadata": {
        "id": "kyN1TkoUj32E",
        "colab_type": "code",
        "colab": {
          "base_uri": "https://localhost:8080/",
          "height": 884
        },
        "outputId": "60507298-44f4-490c-a1c1-a540ef4f8233"
      },
      "source": [
        "df_new = pd.read_csv('dataframe50.csv', index_col=0)\n",
        "print(df_new)"
      ],
      "execution_count": 26,
      "outputs": [
        {
          "output_type": "stream",
          "text": [
            "              normal   uniform  binomial\n",
            "2020-01-01  0.496714  0.167483         0\n",
            "2020-01-02 -0.138264  0.104568         0\n",
            "2020-01-03  0.647689  0.636430         0\n",
            "2020-01-04  1.523030  0.706476         0\n",
            "2020-01-05 -0.234153  0.031586         1\n",
            "2020-01-06 -0.234137  0.936212         0\n",
            "2020-01-07  1.579213  0.051971         0\n",
            "2020-01-08  0.767435  0.541296         0\n",
            "2020-01-09 -0.469474  0.709061         1\n",
            "2020-01-10  0.542560  0.870969         0\n",
            "2020-01-11 -0.463418  0.714087         0\n",
            "2020-01-12 -0.465730  0.801728         0\n",
            "2020-01-13  0.241962  0.339450         0\n",
            "2020-01-14 -1.913280  0.814825         0\n",
            "2020-01-15 -1.724918  0.080115         0\n",
            "2020-01-16 -0.562288  0.894817         1\n",
            "2020-01-17 -1.012831  0.547592         0\n",
            "2020-01-18  0.314247  0.817298         0\n",
            "2020-01-19 -0.908024  0.452318         1\n",
            "2020-01-20 -1.412304  0.643578         0\n",
            "2020-01-21  1.465649  0.526403         0\n",
            "2020-01-22 -0.225776  0.731590         0\n",
            "2020-01-23  0.067528  0.081630         0\n",
            "2020-01-24 -1.424748  0.060352         0\n",
            "2020-01-25 -0.544383  0.247103         1\n",
            "2020-01-26  0.110923  0.159545         0\n",
            "2020-01-27 -1.150994  0.871784         0\n",
            "2020-01-28  0.375698  0.219214         0\n",
            "2020-01-29 -0.600639  0.975865         1\n",
            "2020-01-30 -0.291694  0.336896         1\n",
            "2020-01-31 -0.601707  0.182118         1\n",
            "2020-02-01  1.852278  0.789699         0\n",
            "2020-02-02 -0.013497  0.658708         0\n",
            "2020-02-03 -1.057711  0.498196         0\n",
            "2020-02-04  0.822545  0.555364         0\n",
            "2020-02-05 -1.220844  0.719202         0\n",
            "2020-02-06  0.208864  0.228455         0\n",
            "2020-02-07 -1.959670  0.996334         0\n",
            "2020-02-08 -1.328186  0.974793         0\n",
            "2020-02-09  0.196861  0.650326         0\n",
            "2020-02-10  0.738467  0.199542         0\n",
            "2020-02-11  0.171368  0.680228         0\n",
            "2020-02-12 -0.115648  0.072198         0\n",
            "2020-02-13 -0.301104  0.030653         0\n",
            "2020-02-14 -1.478522  0.257683         0\n",
            "2020-02-15 -0.719844  0.462623         0\n",
            "2020-02-16 -0.460639  0.868273         0\n",
            "2020-02-17  1.057122  0.727169         0\n",
            "2020-02-18  0.343618  0.742707         1\n",
            "2020-02-19 -1.763040  0.425493         0\n"
          ],
          "name": "stdout"
        }
      ]
    },
    {
      "cell_type": "code",
      "metadata": {
        "id": "h1cKjBQnklTO",
        "colab_type": "code",
        "colab": {}
      },
      "source": [
        "import pandas as pd\n",
        "\n",
        "\"\"\"\n",
        "google.csv = \n",
        "Date,Open,High,Low,Close,Volume\n",
        "2020-07-02,1451.84,1488.52,1451.065,1469.93,2860915\n",
        "2020-07-01,1419.17,1448.48,1414.18,1442.0,2109124\n",
        "2020-06-30,1396.88,1424.0,1386.9301,1418.05,2014320\n",
        "2020-06-29,1360.34,1398.0,1351.65,1397.17,2253678\n",
        "2020-06-26,1432.63,1437.02,1355.0,1362.54,4882014\n",
        "2020-06-25,1431.22,1442.32,1419.5401,1441.1,1197907\n",
        "2020-06-24,1463.28,1475.79,1430.0,1432.7,1579579\n",
        "2020-06-23,1452.0,1475.2,1445.0,1463.98,1887583\n",
        "2020-06-22,1425.01,1450.95,1419.19,1450.66,1472072\n",
        "2020-06-19,1440.0,1444.5,1419.0,1424.64,2639167\n",
        "2020-06-18,1449.85,1452.9699,1426.235,1434.12,1743071\n",
        "2020-06-17,1452.94,1462.2,1435.125,1452.54,1530500\n",
        "2020-06-16,1449.0,1457.17,1428.99,1446.47,1534826\n",
        "2020-06-15,1389.49,1425.0,1387.1952,1420.74,1527652\n",
        "2020-06-12,1425.86,1434.505,1385.8,1412.92,1833756\n",
        "2020-06-11,1441.03,1451.6033,1398.41,1401.9,2357243\n",
        "2020-06-10,1461.51,1472.77,1454.355,1464.7,1588116\n",
        "2020-06-09,1445.24,1467.8,1442.36,1452.08,1681155\n",
        "2020-06-08,1426.28,1449.0,1424.48,1448.04,1693881\n",
        "2020-06-05,1415.64,1446.3,1407.6213,1440.02,2132350\n",
        "2020-06-04,1436.78,1441.32,1406.01,1414.3,1349105\n",
        "2020-06-03,1442.7,1449.01,1431.62,1439.25,1386640\n",
        "2020-06-02,1435.0,1443.0,1421.61,1442.31,1172069\n",
        "2020-06-01,1425.7,1441.58,1422.28,1434.87,1259254\n",
        "2020-05-29,1420.43,1436.73,1415.98,1433.52,1852522\n",
        "2020-05-28,1400.0,1444.46,1399.076,1418.24,1759787\n",
        "2020-05-27,1420.0,1425.345,1394.6,1420.28,1584185\n",
        "2020-05-26,1441.96,1445.11,1419.395,1421.37,2229488\n",
        "2020-05-22,1403.9,1417.0,1395.95,1413.24,1427206\n",
        "2020-05-21,1410.99,1416.46,1394.39,1406.75,1544976\n",
        "\"\"\"\n",
        "\n",
        "google = pd.read_csv('google.csv', index_col=0)\n",
        "google = google.reset_index()\n",
        "google['Date'] = pd.to_datetime(google['Date'])\n",
        "google['Year'] = google.Date.dt.year\n",
        "google['Month'] = google.Date.dt.month"
      ],
      "execution_count": null,
      "outputs": []
    },
    {
      "cell_type": "code",
      "metadata": {
        "id": "h7YylAuOkiwV",
        "colab_type": "code",
        "colab": {}
      },
      "source": [
        "import pandas as pd\n",
        " \n",
        " \n",
        "google = pd.read_csv('google.csv', index_col=0)\n",
        "google = google.reset_index()\n",
        "google['Date'] = pd.to_datetime(google['Date'])\n",
        "google['Year'] = google['Date'].dt.year\n",
        "google['Month'] = google['Date'].dt.month\n",
        "print(google.groupby('Month')['Close'].mean())"
      ],
      "execution_count": null,
      "outputs": []
    },
    {
      "cell_type": "code",
      "metadata": {
        "id": "a_eizFYKnzsq",
        "colab_type": "code",
        "colab": {}
      },
      "source": [
        "# From the google.csv find the index of close which has minimum value\n",
        "idx_col = google['close'].argmin()\n",
        "print(google[[idx_col]])\n"
      ],
      "execution_count": null,
      "outputs": []
    },
    {
      "cell_type": "code",
      "metadata": {
        "id": "7zYPYNlapaNo",
        "colab_type": "code",
        "colab": {}
      },
      "source": [
        "# permanently drop Year and Month column from google dataframe\n",
        "\n",
        "google.drop([\"Year\",\"Month\"],axis=1,inplace=True)\n",
        "print(google)\n",
        "\n",
        "\"\"\"\n",
        "\n",
        "import pandas as pd\n",
        " \n",
        " \n",
        "google = pd.read_csv('google.csv')\n",
        "google['Date'] = pd.to_datetime(google['Date'])\n",
        "google['Year'] = google['Date'].dt.year\n",
        "google['Month'] = google['Date'].dt.month\n",
        "google = google.drop(columns=['Year', 'Month'])\n",
        "print(google)\n",
        "\n",
        "\"\"\""
      ],
      "execution_count": null,
      "outputs": []
    },
    {
      "cell_type": "code",
      "metadata": {
        "id": "xn8bKfqRpsr2",
        "colab_type": "code",
        "colab": {}
      },
      "source": [
        "# rename columns of google dataframe \n",
        "google = pd.read_csv('google.csv', index_col=0)\n",
        "google.columns = ['O', 'H', 'L', 'C', 'V']\n",
        "print(google)"
      ],
      "execution_count": 27,
      "outputs": []
    },
    {
      "cell_type": "code",
      "metadata": {
        "id": "89AaA5AzqLvA",
        "colab_type": "code",
        "colab": {
          "base_uri": "https://localhost:8080/",
          "height": 782
        },
        "outputId": "2858d2e5-3dc7-49a8-8fea-023910503dce"
      },
      "source": [
        "# Load file from URL and convert it to dataframe then find missing values \n",
        "\n",
        "import pandas as pd\n",
        " \n",
        " \n",
        "url = 'https://ml-repository-krakers.s3-eu-west-1.amazonaws.com/kaggle+/churn_modelling/Telco-Customer-Churn.csv'\n",
        "\n",
        "csv = pd.read_csv(url,sep=\",\")\n",
        "#print(csv.head())\n",
        "\n",
        "print(csv.isnull().sum())\n",
        "print()\n",
        "print(csv.isna().sum())\n"
      ],
      "execution_count": 38,
      "outputs": [
        {
          "output_type": "stream",
          "text": [
            "customerID          0\n",
            "gender              0\n",
            "SeniorCitizen       0\n",
            "Partner             0\n",
            "Dependents          0\n",
            "tenure              0\n",
            "PhoneService        0\n",
            "MultipleLines       0\n",
            "InternetService     0\n",
            "OnlineSecurity      0\n",
            "OnlineBackup        0\n",
            "DeviceProtection    0\n",
            "TechSupport         0\n",
            "StreamingTV         0\n",
            "StreamingMovies     0\n",
            "Contract            0\n",
            "PaperlessBilling    0\n",
            "PaymentMethod       0\n",
            "MonthlyCharges      0\n",
            "TotalCharges        0\n",
            "Churn               0\n",
            "dtype: int64\n",
            "\n",
            "customerID          0\n",
            "gender              0\n",
            "SeniorCitizen       0\n",
            "Partner             0\n",
            "Dependents          0\n",
            "tenure              0\n",
            "PhoneService        0\n",
            "MultipleLines       0\n",
            "InternetService     0\n",
            "OnlineSecurity      0\n",
            "OnlineBackup        0\n",
            "DeviceProtection    0\n",
            "TechSupport         0\n",
            "StreamingTV         0\n",
            "StreamingMovies     0\n",
            "Contract            0\n",
            "PaperlessBilling    0\n",
            "PaymentMethod       0\n",
            "MonthlyCharges      0\n",
            "TotalCharges        0\n",
            "Churn               0\n",
            "dtype: int64\n"
          ],
          "name": "stdout"
        }
      ]
    },
    {
      "cell_type": "code",
      "metadata": {
        "id": "vuTgE0FOrdm4",
        "colab_type": "code",
        "colab": {
          "base_uri": "https://localhost:8080/",
          "height": 221
        },
        "outputId": "fd726980-8373-4e74-89c4-463841a2837f"
      },
      "source": [
        "print(csv[\"TotalCharges\"].value_counts())"
      ],
      "execution_count": 44,
      "outputs": [
        {
          "output_type": "stream",
          "text": [
            "20.2       11\n",
            "           11\n",
            "19.75       9\n",
            "19.65       8\n",
            "19.9        8\n",
            "           ..\n",
            "89.05       1\n",
            "6510.45     1\n",
            "401.3       1\n",
            "2730.85     1\n",
            "159.2       1\n",
            "Name: TotalCharges, Length: 6531, dtype: int64\n"
          ],
          "name": "stdout"
        }
      ]
    },
    {
      "cell_type": "code",
      "metadata": {
        "id": "mV55HCN4sEMv",
        "colab_type": "code",
        "colab": {
          "base_uri": "https://localhost:8080/",
          "height": 88
        },
        "outputId": "cbaa7db1-bfc9-4bbc-dc1f-c30645d82419"
      },
      "source": [
        "df[df['TotalCharges'] == ' '].shape"
      ],
      "execution_count": 55,
      "outputs": [
        {
          "output_type": "stream",
          "text": [
            "/usr/local/lib/python3.6/dist-packages/pandas/core/ops/array_ops.py:253: FutureWarning: elementwise comparison failed; returning scalar instead, but in the future will perform elementwise comparison\n",
            "  res_values = method(rvalues)\n"
          ],
          "name": "stderr"
        },
        {
          "output_type": "execute_result",
          "data": {
            "text/plain": [
              "(0, 21)"
            ]
          },
          "metadata": {
            "tags": []
          },
          "execution_count": 55
        }
      ]
    },
    {
      "cell_type": "code",
      "metadata": {
        "colab_type": "code",
        "id": "PTxcN3mHsGtg",
        "colab": {
          "base_uri": "https://localhost:8080/",
          "height": 221
        },
        "outputId": "79f209ed-9d41-4f31-cf93-c5e7b76d6aa0"
      },
      "source": [
        "url = 'https://ml-repository-krakers.s3-eu-west-1.amazonaws.com/kaggle+/churn_modelling/Telco-Customer-Churn.csv'\n",
        "df = pd.read_csv(url)\n",
        " \n",
        "# Calculation of the median for the TotalCharges column\n",
        "TotalChargesMedian = df['TotalCharges'][df['TotalCharges'] != ' '].median()\n",
        " \n",
        "# Fill the missing values with median\n",
        "df.loc[df['TotalCharges'] == ' ', 'TotalCharges'] = TotalChargesMedian\n",
        " \n",
        "# Convert TotalCharges column to float type\n",
        "df['TotalCharges'] = df['TotalCharges'].astype('float')\n",
        " \n",
        "print(df['TotalCharges'].value_counts())"
      ],
      "execution_count": null,
      "outputs": [
        {
          "output_type": "stream",
          "text": [
            "1397.475    11\n",
            "20.200      11\n",
            "19.750       9\n",
            "19.650       8\n",
            "20.050       8\n",
            "            ..\n",
            "607.300      1\n",
            "1534.050     1\n",
            "1066.150     1\n",
            "249.950      1\n",
            "1024.000     1\n",
            "Name: TotalCharges, Length: 6531, dtype: int64\n"
          ],
          "name": "stdout"
        }
      ]
    },
    {
      "cell_type": "code",
      "metadata": {
        "colab_type": "code",
        "id": "N7wTuEXjsFh9",
        "colab": {
          "base_uri": "https://localhost:8080/",
          "height": 221
        },
        "outputId": "79f209ed-9d41-4f31-cf93-c5e7b76d6aa0"
      },
      "source": [
        "url = 'https://ml-repository-krakers.s3-eu-west-1.amazonaws.com/kaggle+/churn_modelling/Telco-Customer-Churn.csv'\n",
        "df = pd.read_csv(url)\n",
        " \n",
        "# Calculation of the median for the TotalCharges column\n",
        "TotalChargesMedian = df['TotalCharges'][df['TotalCharges'] != ' '].median()\n",
        " \n",
        "# Fill the missing values with median\n",
        "df.loc[df['TotalCharges'] == ' ', 'TotalCharges'] = TotalChargesMedian\n",
        " \n",
        "# Convert TotalCharges column to float type\n",
        "df['TotalCharges'] = df['TotalCharges'].astype('float')\n",
        " \n",
        "print(df['TotalCharges'].value_counts())"
      ],
      "execution_count": null,
      "outputs": [
        {
          "output_type": "stream",
          "text": [
            "1397.475    11\n",
            "20.200      11\n",
            "19.750       9\n",
            "19.650       8\n",
            "20.050       8\n",
            "            ..\n",
            "607.300      1\n",
            "1534.050     1\n",
            "1066.150     1\n",
            "249.950      1\n",
            "1024.000     1\n",
            "Name: TotalCharges, Length: 6531, dtype: int64\n"
          ],
          "name": "stdout"
        }
      ]
    },
    {
      "cell_type": "code",
      "metadata": {
        "id": "tS8nFoaCqf8d",
        "colab_type": "code",
        "colab": {
          "base_uri": "https://localhost:8080/",
          "height": 221
        },
        "outputId": "79f209ed-9d41-4f31-cf93-c5e7b76d6aa0"
      },
      "source": [
        "url = 'https://ml-repository-krakers.s3-eu-west-1.amazonaws.com/kaggle+/churn_modelling/Telco-Customer-Churn.csv'\n",
        "df = pd.read_csv(url)\n",
        " \n",
        "# Calculation of the median for the TotalCharges column\n",
        "TotalChargesMedian = df['TotalCharges'][df['TotalCharges'] != ' '].median()\n",
        " \n",
        "# Fill the missing values with median\n",
        "df.loc[df['TotalCharges'] == ' ', 'TotalCharges'] = TotalChargesMedian\n",
        " \n",
        "# Convert TotalCharges column to float type\n",
        "df['TotalCharges'] = df['TotalCharges'].astype('float')\n",
        " \n",
        "print(df['TotalCharges'].value_counts())"
      ],
      "execution_count": 45,
      "outputs": [
        {
          "output_type": "stream",
          "text": [
            "1397.475    11\n",
            "20.200      11\n",
            "19.750       9\n",
            "19.650       8\n",
            "20.050       8\n",
            "            ..\n",
            "607.300      1\n",
            "1534.050     1\n",
            "1066.150     1\n",
            "249.950      1\n",
            "1024.000     1\n",
            "Name: TotalCharges, Length: 6531, dtype: int64\n"
          ],
          "name": "stdout"
        }
      ]
    },
    {
      "cell_type": "code",
      "metadata": {
        "id": "eWGRZ8Jjr_zL",
        "colab_type": "code",
        "colab": {
          "base_uri": "https://localhost:8080/",
          "height": 493
        },
        "outputId": "9f2c7209-1cea-47e1-de35-bc87669465a9"
      },
      "source": [
        "import pandas as pd\n",
        "\n",
        "\n",
        "url = 'https://ml-repository-krakers.s3-eu-west-1.amazonaws.com/kaggle+/churn_modelling/Telco-Customer-Churn.csv'\n",
        "df = pd.read_csv(url, index_col=0)\n",
        "TotalChargesMedian = df['TotalCharges'][df['TotalCharges'] != ' '].median()\n",
        "df.loc[df['TotalCharges'] == ' ', 'TotalCharges'] = TotalChargesMedian\n",
        "df['TotalCharges'] = df['TotalCharges'].astype('float')\n",
        "\n",
        "categorical = ['gender', 'SeniorCitizen', 'Partner', 'Dependents', 'PhoneService', 'MultipleLines', \n",
        "               'InternetService', 'OnlineSecurity', 'OnlineBackup', 'DeviceProtection', 'TechSupport',\n",
        "               'StreamingTV', 'Contract', 'StreamingMovies', 'PaperlessBilling', 'PaymentMethod', 'Churn'] \n",
        "\n",
        "numerical = ['tenure', 'MonthlyCharges']\n",
        "\"\"\"print(df.info())\n",
        "df[categorical] = df[categorical].astype('category')\n",
        "df[numerical] = df[numerical].astype(float)\n",
        "print()\"\"\"\n",
        "\n",
        "\n",
        "for col in categorical:\n",
        "    df[col] = pd.Categorical(df[col]) \n",
        " \n",
        "for col in numerical:\n",
        "    df[col] = df[col].astype(float)\n",
        "print(df.info())\n",
        "\n",
        "\n"
      ],
      "execution_count": 59,
      "outputs": [
        {
          "output_type": "stream",
          "text": [
            "<class 'pandas.core.frame.DataFrame'>\n",
            "Index: 7043 entries, 7590-VHVEG to 3186-AJIEK\n",
            "Data columns (total 20 columns):\n",
            " #   Column            Non-Null Count  Dtype   \n",
            "---  ------            --------------  -----   \n",
            " 0   gender            7043 non-null   category\n",
            " 1   SeniorCitizen     7043 non-null   category\n",
            " 2   Partner           7043 non-null   category\n",
            " 3   Dependents        7043 non-null   category\n",
            " 4   tenure            7043 non-null   float64 \n",
            " 5   PhoneService      7043 non-null   category\n",
            " 6   MultipleLines     7043 non-null   category\n",
            " 7   InternetService   7043 non-null   category\n",
            " 8   OnlineSecurity    7043 non-null   category\n",
            " 9   OnlineBackup      7043 non-null   category\n",
            " 10  DeviceProtection  7043 non-null   category\n",
            " 11  TechSupport       7043 non-null   category\n",
            " 12  StreamingTV       7043 non-null   category\n",
            " 13  StreamingMovies   7043 non-null   category\n",
            " 14  Contract          7043 non-null   category\n",
            " 15  PaperlessBilling  7043 non-null   category\n",
            " 16  PaymentMethod     7043 non-null   category\n",
            " 17  MonthlyCharges    7043 non-null   float64 \n",
            " 18  TotalCharges      7043 non-null   float64 \n",
            " 19  Churn             7043 non-null   category\n",
            "dtypes: category(17), float64(3)\n",
            "memory usage: 658.8+ KB\n",
            "None\n"
          ],
          "name": "stdout"
        }
      ]
    },
    {
      "cell_type": "code",
      "metadata": {
        "id": "vpHODid1u48o",
        "colab_type": "code",
        "colab": {
          "base_uri": "https://localhost:8080/",
          "height": 136
        },
        "outputId": "51f2bd77-42ef-44d5-f81b-f4c637939af8"
      },
      "source": [
        "# print describe() for categorical variable\n",
        "\n",
        "print(df.describe(include=['category']))"
      ],
      "execution_count": 60,
      "outputs": [
        {
          "output_type": "stream",
          "text": [
            "       gender  SeniorCitizen Partner  ... PaperlessBilling     PaymentMethod Churn\n",
            "count    7043           7043    7043  ...             7043              7043  7043\n",
            "unique      2              2       2  ...                2                 4     2\n",
            "top      Male              0      No  ...              Yes  Electronic check    No\n",
            "freq     3555           5901    3641  ...             4171              2365  5174\n",
            "\n",
            "[4 rows x 17 columns]\n"
          ],
          "name": "stdout"
        }
      ]
    },
    {
      "cell_type": "code",
      "metadata": {
        "id": "RYpKu_wqw5RE",
        "colab_type": "code",
        "colab": {}
      },
      "source": [
        "# distribution of churn variable\n",
        "\n",
        "print(df['Churn'].value_counts())"
      ],
      "execution_count": null,
      "outputs": []
    },
    {
      "cell_type": "code",
      "metadata": {
        "id": "7WqeVG4exR9I",
        "colab_type": "code",
        "colab": {
          "base_uri": "https://localhost:8080/",
          "height": 187
        },
        "outputId": "312561ba-527f-431d-a067-332f65809144"
      },
      "source": [
        "# Group data by 'Churn' and 'PaymentMethod ' and then find the average value for MonthlyCharges\n",
        "\n",
        "import pandas as pd\n",
        "\n",
        "\n",
        "url = 'https://ml-repository-krakers.s3-eu-west-1.amazonaws.com/kaggle+/churn_modelling/Telco-Customer-Churn.csv'\n",
        "df = pd.read_csv(url, index_col=0)\n",
        "print(df.groupby(['Churn','PaymentMethod'])['MonthlyCharges'].mean())"
      ],
      "execution_count": 63,
      "outputs": [
        {
          "output_type": "stream",
          "text": [
            "Churn  PaymentMethod            \n",
            "No     Bank transfer (automatic)    65.049417\n",
            "       Credit card (automatic)      64.562209\n",
            "       Electronic check             74.232032\n",
            "       Mailed check                 41.403911\n",
            "Yes    Bank transfer (automatic)    77.875581\n",
            "       Credit card (automatic)      77.356034\n",
            "       Electronic check             78.700980\n",
            "       Mailed check                 54.557143\n",
            "Name: MonthlyCharges, dtype: float64\n"
          ],
          "name": "stdout"
        }
      ]
    },
    {
      "cell_type": "code",
      "metadata": {
        "id": "0dLHQhwhxbjK",
        "colab_type": "code",
        "colab": {}
      },
      "source": [
        "# Map the value of Churn  \"Yes\":1, \"No\" :0\n",
        "df['Churn'] = df['Churn'].map({'Yes': 1, 'No': 0})"
      ],
      "execution_count": 64,
      "outputs": []
    },
    {
      "cell_type": "code",
      "metadata": {
        "id": "1f-PWAUzx6NF",
        "colab_type": "code",
        "colab": {
          "base_uri": "https://localhost:8080/",
          "height": 85
        },
        "outputId": "a96efdb7-124d-49e4-d20b-64339e7bca3b"
      },
      "source": [
        "# Calculate the correlation matrix for the following dataframe\n",
        "\n",
        "import pandas as pd\n",
        "\n",
        "\n",
        "url = 'https://ml-repository-krakers.s3-eu-west-1.amazonaws.com/kaggle+/churn_modelling/Telco-Customer-Churn.csv'\n",
        "df = pd.read_csv(url, index_col=0)\n",
        "print(df.corr())"
      ],
      "execution_count": 66,
      "outputs": [
        {
          "output_type": "stream",
          "text": [
            "                SeniorCitizen    tenure  MonthlyCharges\n",
            "SeniorCitizen        1.000000  0.016567        0.220173\n",
            "tenure               0.016567  1.000000        0.247900\n",
            "MonthlyCharges       0.220173  0.247900        1.000000\n"
          ],
          "name": "stdout"
        }
      ]
    },
    {
      "cell_type": "code",
      "metadata": {
        "id": "vevj62ICyQn7",
        "colab_type": "code",
        "colab": {
          "base_uri": "https://localhost:8080/",
          "height": 255
        },
        "outputId": "b37c41fc-a5e3-48c4-bc13-1be305487272"
      },
      "source": [
        "import pandas as pd\n",
        "import numpy as np\n",
        "\n",
        "\n",
        "np.random.seed(42)\n",
        "\n",
        "url = 'https://ml-repository-krakers.s3-eu-west-1.amazonaws.com/kaggle+/churn_modelling/Telco-Customer-Churn.csv'\n",
        "df = pd.read_csv(url, index_col=0)\n",
        "print(df[:10])\n",
        "\n",
        "df.sample(10).to_csv(\"sample_10.csv\")"
      ],
      "execution_count": 73,
      "outputs": [
        {
          "output_type": "stream",
          "text": [
            "            gender  SeniorCitizen Partner  ... MonthlyCharges  TotalCharges Churn\n",
            "customerID                                 ...                                   \n",
            "7590-VHVEG  Female              0     Yes  ...          29.85         29.85    No\n",
            "5575-GNVDE    Male              0      No  ...          56.95        1889.5    No\n",
            "3668-QPYBK    Male              0      No  ...          53.85        108.15   Yes\n",
            "7795-CFOCW    Male              0      No  ...          42.30       1840.75    No\n",
            "9237-HQITU  Female              0      No  ...          70.70        151.65   Yes\n",
            "9305-CDSKC  Female              0      No  ...          99.65         820.5   Yes\n",
            "1452-KIOVK    Male              0      No  ...          89.10        1949.4    No\n",
            "6713-OKOMC  Female              0      No  ...          29.75         301.9    No\n",
            "7892-POOKP  Female              0     Yes  ...         104.80       3046.05   Yes\n",
            "6388-TABGU    Male              0      No  ...          56.15       3487.95    No\n",
            "\n",
            "[10 rows x 20 columns]\n"
          ],
          "name": "stdout"
        }
      ]
    },
    {
      "cell_type": "code",
      "metadata": {
        "id": "x3JjjgUUymBy",
        "colab_type": "code",
        "colab": {
          "base_uri": "https://localhost:8080/",
          "height": 374
        },
        "outputId": "1b02ffdc-183b-4dc3-b7de-c0ca951d58c7"
      },
      "source": [
        "# combine the below series to one dataframe df \n",
        "\n",
        "np.random.seed(42)\n",
        "s1 = pd.Series(np.random.rand(20))\n",
        "s2 = pd.Series(np.random.randn(20))\n",
        "df = pd.concat([s1,s2],axis=1)\n",
        "df.columns=[\"col1\",\"col2\"]\n",
        "print(df)\n",
        "\n"
      ],
      "execution_count": 83,
      "outputs": [
        {
          "output_type": "stream",
          "text": [
            "        col1      col2\n",
            "0   0.374540 -1.012831\n",
            "1   0.950714  0.314247\n",
            "2   0.731994 -0.908024\n",
            "3   0.598658 -1.412304\n",
            "4   0.156019  1.465649\n",
            "5   0.155995 -0.225776\n",
            "6   0.058084  0.067528\n",
            "7   0.866176 -1.424748\n",
            "8   0.601115 -0.544383\n",
            "9   0.708073  0.110923\n",
            "10  0.020584 -1.150994\n",
            "11  0.969910  0.375698\n",
            "12  0.832443 -0.600639\n",
            "13  0.212339 -0.291694\n",
            "14  0.181825 -0.601707\n",
            "15  0.183405  1.852278\n",
            "16  0.304242 -0.013497\n",
            "17  0.524756 -1.057711\n",
            "18  0.431945  0.822545\n",
            "19  0.291229 -1.220844\n"
          ],
          "name": "stdout"
        }
      ]
    },
    {
      "cell_type": "code",
      "metadata": {
        "id": "5caFAi0Jzy8u",
        "colab_type": "code",
        "colab": {
          "base_uri": "https://localhost:8080/",
          "height": 221
        },
        "outputId": "0d467c5f-2965-4bf4-9492-188ef2d97179"
      },
      "source": [
        "# extract rows from df[col2 ] which is between 0.0 and 1.0\n",
        "\n",
        "print(df[df['col2'].between(0.0, 1.0)])\n",
        "\n",
        "print(df[(df['col2'] >= 0.0) & (df['col2'] <= 1.0)])"
      ],
      "execution_count": 84,
      "outputs": [
        {
          "output_type": "stream",
          "text": [
            "        col1      col2\n",
            "1   0.950714  0.314247\n",
            "6   0.058084  0.067528\n",
            "9   0.708073  0.110923\n",
            "11  0.969910  0.375698\n",
            "18  0.431945  0.822545\n",
            "        col1      col2\n",
            "1   0.950714  0.314247\n",
            "6   0.058084  0.067528\n",
            "9   0.708073  0.110923\n",
            "11  0.969910  0.375698\n",
            "18  0.431945  0.822545\n"
          ],
          "name": "stdout"
        }
      ]
    },
    {
      "cell_type": "code",
      "metadata": {
        "id": "MgAt2i_C2ey2",
        "colab_type": "code",
        "colab": {}
      },
      "source": [
        "# make col3 as 1 if value in col2 is non negative else -1\n",
        "\n",
        "df['col3'] = df['col2'].map(lambda x: 1 if x >= 0 else -1)\n",
        "print(df)"
      ],
      "execution_count": null,
      "outputs": []
    },
    {
      "cell_type": "code",
      "metadata": {
        "id": "gxgMQ1Wy4za9",
        "colab_type": "code",
        "colab": {}
      },
      "source": [
        "# make col4 to truncate values of col2 in range of -1.0 to 1.o\n",
        "df['col4'] = df['col2'].clip(-1.0, 1.0)\n",
        "print(df)"
      ],
      "execution_count": null,
      "outputs": []
    },
    {
      "cell_type": "code",
      "metadata": {
        "id": "49a-vUHE5LnK",
        "colab_type": "code",
        "colab": {
          "base_uri": "https://localhost:8080/",
          "height": 119
        },
        "outputId": "f5dc177d-c839-45af-f5d4-d8e02642cf23"
      },
      "source": [
        "a= df['col2'].sort_values().head()\n",
        "print(a)"
      ],
      "execution_count": 87,
      "outputs": [
        {
          "output_type": "stream",
          "text": [
            "7    -1.424748\n",
            "3    -1.412304\n",
            "19   -1.220844\n",
            "10   -1.150994\n",
            "17   -1.057711\n",
            "Name: col2, dtype: float64\n"
          ],
          "name": "stdout"
        }
      ]
    },
    {
      "cell_type": "code",
      "metadata": {
        "id": "DIh0SLIz5RkF",
        "colab_type": "code",
        "colab": {
          "base_uri": "https://localhost:8080/",
          "height": 238
        },
        "outputId": "bcc59c28-6156-4990-b11e-7838c86d3f6c"
      },
      "source": [
        "# print the top 5 highest values and then lowest\n",
        "\n",
        "#print(df['col2'].sort_values(ascending=False).head())\n",
        "#print()\n",
        "#print(df['col2'].sort_values().head())\n",
        "\n",
        "print(df['col2'].nlargest(5))\n",
        "print()\n",
        "print(df['col2'].nsmallest(5))\n",
        "\n"
      ],
      "execution_count": 91,
      "outputs": [
        {
          "output_type": "stream",
          "text": [
            "15    1.852278\n",
            "4     1.465649\n",
            "18    0.822545\n",
            "11    0.375698\n",
            "1     0.314247\n",
            "Name: col2, dtype: float64\n",
            "\n",
            "7    -1.424748\n",
            "3    -1.412304\n",
            "19   -1.220844\n",
            "10   -1.150994\n",
            "17   -1.057711\n",
            "Name: col2, dtype: float64\n"
          ],
          "name": "stdout"
        }
      ]
    },
    {
      "cell_type": "code",
      "metadata": {
        "id": "El1xWN396hGl",
        "colab_type": "code",
        "colab": {
          "base_uri": "https://localhost:8080/",
          "height": 374
        },
        "outputId": "98207065-d11d-4b63-dec7-41ddb383bdcf"
      },
      "source": [
        "# Find the cumulative sum of the pandas dataframe\n",
        "\n",
        "print(df.cumsum())"
      ],
      "execution_count": 92,
      "outputs": [
        {
          "output_type": "stream",
          "text": [
            "        col1      col2\n",
            "0   0.374540 -1.012831\n",
            "1   1.325254 -0.698584\n",
            "2   2.057248 -1.606608\n",
            "3   2.655907 -3.018912\n",
            "4   2.811925 -1.553263\n",
            "5   2.967920 -1.779039\n",
            "6   3.026004 -1.711511\n",
            "7   3.892180 -3.136259\n",
            "8   4.493295 -3.680642\n",
            "9   5.201367 -3.569719\n",
            "10  5.221952 -4.720713\n",
            "11  6.191862 -4.345015\n",
            "12  7.024304 -4.945653\n",
            "13  7.236643 -5.237347\n",
            "14  7.418468 -5.839054\n",
            "15  7.601873 -3.986776\n",
            "16  7.906115 -4.000273\n",
            "17  8.430872 -5.057984\n",
            "18  8.862817 -4.235439\n",
            "19  9.154046 -5.456283\n"
          ],
          "name": "stdout"
        }
      ]
    },
    {
      "cell_type": "code",
      "metadata": {
        "id": "HqRxo6NZ5of6",
        "colab_type": "code",
        "colab": {
          "base_uri": "https://localhost:8080/",
          "height": 51
        },
        "outputId": "b33f29db-1ca4-4f04-bee3-1fafbca71adb"
      },
      "source": [
        "# calculate the median of the col2 variable\n",
        "\n",
        "print(df['col2'].median())\n",
        "\n",
        "# or \n",
        "print(df['col2'].quantile())"
      ],
      "execution_count": 94,
      "outputs": [
        {
          "output_type": "stream",
          "text": [
            "-0.4180382371592297\n",
            "-0.4180382371592297\n"
          ],
          "name": "stdout"
        }
      ]
    },
    {
      "cell_type": "code",
      "metadata": {
        "id": "gid_cDBK7IzX",
        "colab_type": "code",
        "colab": {
          "base_uri": "https://localhost:8080/",
          "height": 289
        },
        "outputId": "819934be-855f-40cd-c768-f329c87fb052"
      },
      "source": [
        "# Extract rows for which col2 value is greater than 0.0\n",
        "\n",
        "print(df[df['col2']>0.0])\n",
        "\n",
        "# or\n",
        "\n",
        "print(df.query(\"col2 > 0\"))"
      ],
      "execution_count": 96,
      "outputs": [
        {
          "output_type": "stream",
          "text": [
            "        col1      col2\n",
            "1   0.950714  0.314247\n",
            "4   0.156019  1.465649\n",
            "6   0.058084  0.067528\n",
            "9   0.708073  0.110923\n",
            "11  0.969910  0.375698\n",
            "15  0.183405  1.852278\n",
            "18  0.431945  0.822545\n",
            "        col1      col2\n",
            "1   0.950714  0.314247\n",
            "4   0.156019  1.465649\n",
            "6   0.058084  0.067528\n",
            "9   0.708073  0.110923\n",
            "11  0.969910  0.375698\n",
            "15  0.183405  1.852278\n",
            "18  0.431945  0.822545\n"
          ],
          "name": "stdout"
        }
      ]
    },
    {
      "cell_type": "code",
      "metadata": {
        "id": "ObCrOpAL7g4u",
        "colab_type": "code",
        "colab": {
          "base_uri": "https://localhost:8080/",
          "height": 187
        },
        "outputId": "f1057d5f-4b25-45bf-cab4-d48628fe177c"
      },
      "source": [
        "# Convert the pandas dataframe to dictionary \n",
        "df.head().to_dict('dict')"
      ],
      "execution_count": 101,
      "outputs": [
        {
          "output_type": "execute_result",
          "data": {
            "text/plain": [
              "{'col1': {0: 0.3745401188473625,\n",
              "  1: 0.9507143064099162,\n",
              "  2: 0.7319939418114051,\n",
              "  3: 0.5986584841970366,\n",
              "  4: 0.15601864044243652},\n",
              " 'col2': {0: -1.0128311203344238,\n",
              "  1: 0.3142473325952739,\n",
              "  2: -0.9080240755212109,\n",
              "  3: -1.4123037013352915,\n",
              "  4: 1.465648768921554}}"
            ]
          },
          "metadata": {
            "tags": []
          },
          "execution_count": 101
        }
      ]
    },
    {
      "cell_type": "code",
      "metadata": {
        "id": "z53sIcJf8E6J",
        "colab_type": "code",
        "colab": {
          "base_uri": "https://localhost:8080/",
          "height": 629
        },
        "outputId": "118e4192-b9a6-4294-9444-a6efe794938b"
      },
      "source": [
        "# Convert the pandas dataframe to html \n",
        "print(df.head().to_html())"
      ],
      "execution_count": 102,
      "outputs": [
        {
          "output_type": "stream",
          "text": [
            "<table border=\"1\" class=\"dataframe\">\n",
            "  <thead>\n",
            "    <tr style=\"text-align: right;\">\n",
            "      <th></th>\n",
            "      <th>col1</th>\n",
            "      <th>col2</th>\n",
            "    </tr>\n",
            "  </thead>\n",
            "  <tbody>\n",
            "    <tr>\n",
            "      <th>0</th>\n",
            "      <td>0.374540</td>\n",
            "      <td>-1.012831</td>\n",
            "    </tr>\n",
            "    <tr>\n",
            "      <th>1</th>\n",
            "      <td>0.950714</td>\n",
            "      <td>0.314247</td>\n",
            "    </tr>\n",
            "    <tr>\n",
            "      <th>2</th>\n",
            "      <td>0.731994</td>\n",
            "      <td>-0.908024</td>\n",
            "    </tr>\n",
            "    <tr>\n",
            "      <th>3</th>\n",
            "      <td>0.598658</td>\n",
            "      <td>-1.412304</td>\n",
            "    </tr>\n",
            "    <tr>\n",
            "      <th>4</th>\n",
            "      <td>0.156019</td>\n",
            "      <td>1.465649</td>\n",
            "    </tr>\n",
            "  </tbody>\n",
            "</table>\n"
          ],
          "name": "stdout"
        }
      ]
    },
    {
      "cell_type": "code",
      "metadata": {
        "id": "RhmCyc_w87BF",
        "colab_type": "code",
        "colab": {
          "base_uri": "https://localhost:8080/",
          "height": 85
        },
        "outputId": "cebc1403-5f1c-4ab0-8f2e-4db964289d47"
      },
      "source": [
        "# Print all values of dataframe where col C is greater than 0.8\n",
        "\n",
        "np.random.seed(42)\n",
        "df = pd.DataFrame(np.random.rand(10, 4), columns=list('ABCD'))\n",
        "print(df[df['C']>0.8])\n",
        "#print(df.loc[df['C'] > 0.8])"
      ],
      "execution_count": 104,
      "outputs": [
        {
          "output_type": "stream",
          "text": [
            "          A         B         C         D\n",
            "8  0.065052  0.948886  0.965632  0.808397\n",
            "          A         B         C         D\n",
            "8  0.065052  0.948886  0.965632  0.808397\n"
          ],
          "name": "stdout"
        }
      ]
    },
    {
      "cell_type": "code",
      "metadata": {
        "id": "7T6M1sJ49Mf4",
        "colab_type": "code",
        "colab": {}
      },
      "source": [
        "# Print all values of dataframe where col C is greater than 0.3 and D is less than 0.7\n",
        "\n",
        "\n",
        "print(df[(df['C']>0.3) & (df['D']<0.7)])"
      ],
      "execution_count": null,
      "outputs": []
    },
    {
      "cell_type": "code",
      "metadata": {
        "id": "TKlEedmO-f0o",
        "colab_type": "code",
        "colab": {}
      },
      "source": [
        "# print first five rows in a dataframe\n",
        "for i,j in df.iterrows():\n",
        "    if i<5:\n",
        "        print(j)\n",
        "\n",
        "# Alternative\n",
        "for index, row in df.head().iterrows():\n",
        "    print(row)\n",
        "       "
      ],
      "execution_count": null,
      "outputs": []
    },
    {
      "cell_type": "code",
      "metadata": {
        "id": "8cXrhfmJ_NLC",
        "colab_type": "code",
        "colab": {}
      },
      "source": [
        "# set np.nan at [\"B\"][3] and [\"D\"] [8]\n",
        "\n",
        "df[\"B\"].iloc[3] = np.nan\n",
        "df[\"D\"].iloc[8] = np.nan\n",
        "print(df)\n",
        "\n",
        "df.iloc[3, 1] = np.nan\n",
        "df.loc[8, 'D'] = np.nan\n",
        "print(df)"
      ],
      "execution_count": null,
      "outputs": []
    }
  ]
}