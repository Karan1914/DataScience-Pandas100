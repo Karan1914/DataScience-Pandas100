{
  "nbformat": 4,
  "nbformat_minor": 0,
  "metadata": {
    "colab": {
      "name": "CPUvsGPU.ipynb",
      "provenance": [],
      "authorship_tag": "ABX9TyPj1zci8RKpAhpEKOk7rfCh",
      "include_colab_link": true
    },
    "kernelspec": {
      "name": "python3",
      "display_name": "Python 3"
    }
  },
  "cells": [
    {
      "cell_type": "markdown",
      "metadata": {
        "id": "view-in-github",
        "colab_type": "text"
      },
      "source": [
        "<a href=\"https://colab.research.google.com/github/Karan1914/DataScience-Pandas100/blob/master/CPUvsGPU.ipynb\" target=\"_parent\"><img src=\"https://colab.research.google.com/assets/colab-badge.svg\" alt=\"Open In Colab\"/></a>"
      ]
    },
    {
      "cell_type": "code",
      "metadata": {
        "id": "2Aopj187uJte",
        "colab_type": "code",
        "colab": {
          "base_uri": "https://localhost:8080/",
          "height": 102
        },
        "outputId": "6ff87181-de13-4c65-d788-c9055c7e3c45"
      },
      "source": [
        "from numba import jit\n",
        "import numpy as np \n",
        "# to measure exec time \n",
        "from timeit import default_timer as timer    \n",
        "\n",
        "# normal function to run on cpu \n",
        "def func(a,n):                                 \n",
        "    for i in range(n): \n",
        "        a[i]+= 1\n",
        "    return a\n",
        "\n",
        "\n",
        "# function optimized to run on gpu  \n",
        "@jit\n",
        "#(target =\"cuda\")                          \n",
        "def func2(a,n): \n",
        "    for i in range(n): \n",
        "        a[i]+= 1\n",
        "    \n",
        "\n",
        "\n",
        "if __name__==\"__main__\": \n",
        "    number_list = [10,100,1000,10000,100000,10000000,100000000,1000000000,10000000000]\n",
        "    number_list_small = [10,100,1000,10000,100000,10000000]\n",
        "    CPU_timer_list=[]\n",
        "    GPU_timer_list=[]\n",
        "    for n in number_list_small:\n",
        "      \n",
        "\n",
        "      #n = 1000                          \n",
        "      a = np.ones(n, dtype = np.float64) \n",
        "      b = np.ones(n, dtype = np.float32) \n",
        "\n",
        "      start = timer() \n",
        "      func(b,n) \n",
        "      #print(x)\n",
        "      cpu_time = timer()-start\n",
        "      CPU_timer_list.append(cpu_time)\n",
        "          \n",
        "\n",
        "      start = timer() \n",
        "      func2(b,n) \n",
        "      #print(y)\n",
        "      gpu_time = timer()-start\n",
        "      GPU_timer_list.append(gpu_time)\n",
        "    print(\"without GPU:\", CPU_timer_list) \n",
        "    print(\"with GPU:\", GPU_timer_list) \n",
        "\n",
        "    round_CPU_timer_list = [round(num, 5) for num in CPU_timer_list]\n",
        "    round_GPU_timer_list = [round(num, 5) for num in GPU_timer_list]\n",
        "\n",
        "    print()\n",
        "\n",
        "    print(\"without GPU:\", round_CPU_timer_list) \n",
        "    print(\"with GPU:\", round_GPU_timer_list) \n",
        "\n"
      ],
      "execution_count": 40,
      "outputs": [
        {
          "output_type": "stream",
          "text": [
            "without GPU: [5.9964999763906235e-05, 0.0003070890002163651, 0.002731269999912911, 0.02770596399977876, 0.2785245549998763, 28.48974858199972]\n",
            "with GPU: [0.0781489569999394, 3.0780001907260157e-06, 1.3569997463491745e-06, 1.2400999821693404e-05, 5.5095999869081425e-05, 0.0036523389999274514]\n",
            "\n",
            "without GPU: [6e-05, 0.00031, 0.00273, 0.02771, 0.27852, 28.48975]\n",
            "with GPU: [0.07815, 0.0, 0.0, 1e-05, 6e-05, 0.00365]\n"
          ],
          "name": "stdout"
        }
      ]
    },
    {
      "cell_type": "code",
      "metadata": {
        "id": "y_CbN3Va23uN",
        "colab_type": "code",
        "colab": {
          "base_uri": "https://localhost:8080/",
          "height": 575
        },
        "outputId": "4f6b440e-f6e0-4642-ff9c-95554b0b2012"
      },
      "source": [
        "import matplotlib.pyplot as plt\n",
        "\n",
        "x=['A_10','B_100','C_1000','D_10000','E_100000','F_1000000','G_10000000']\n",
        "\n",
        "\n",
        "x=['A1','B2','C3','D4','E5','F6']\n",
        "\n",
        "\n",
        "#plt.bar(x1,round_CPU_timer_list)\n",
        "plt.bar(x1,round_CPU_timer_list, color=['firebrick', 'green', 'blue', 'black', 'red',\n",
        "                    'purple'])\n",
        "\n",
        "plt.xlabel('Categories')\n",
        "plt.ylabel(\"Values\")\n",
        "plt.title('CPU Bar Plot')\n",
        "plt.show()\n",
        "\n",
        "\n",
        "x=['A1','B2','C3','D4','E5','F6','G7']\n",
        "\n",
        "plt.bar(x1,round_GPU_timer_list, color=['firebrick', 'green', 'blue', 'black', 'red',\n",
        "                    'purple'])\n",
        "\n",
        "plt.xlabel('Categories')\n",
        "plt.ylabel(\"Values\")\n",
        "plt.title('GPU Bar Plot')\n",
        "plt.show()"
      ],
      "execution_count": 46,
      "outputs": [
        {
          "output_type": "display_data",
          "data": {
            "image/png": "[encoded data removed]",
            "text/plain": [
              "<Figure size 432x288 with 1 Axes>"
            ]
          },
          "metadata": {
            "tags": [],
            "needs_background": "light"
          }
        },
        {
          "output_type": "display_data",
          "data": {
            "image/png": "[encoded data removed]",
            "text/plain": [
              "<Figure size 432x288 with 1 Axes>"
            ]
          },
          "metadata": {
            "tags": [],
            "needs_background": "light"
          }
        }
      ]
    },
    {
      "cell_type": "code",
      "metadata": {
        "id": "VT1R2x9VxANR",
        "colab_type": "code",
        "colab": {
          "base_uri": "https://localhost:8080/",
          "height": 51
        },
        "outputId": "b852abc2-44ef-4c94-f00e-df87ef0031cc"
      },
      "source": [
        "a = np.ones(4, dtype = np.float64) \n",
        "print(a)\n",
        "\n",
        "for i in range(4): \n",
        "        a[i]+= 1\n",
        "print(a)"
      ],
      "execution_count": 8,
      "outputs": [
        {
          "output_type": "stream",
          "text": [
            "[1. 1. 1. 1.]\n",
            "[2. 2. 2. 2.]\n"
          ],
          "name": "stdout"
        }
      ]
    },
    {
      "cell_type": "code",
      "metadata": {
        "id": "_lFVhd_VxqbM",
        "colab_type": "code",
        "colab": {}
      },
      "source": [
        ""
      ],
      "execution_count": null,
      "outputs": []
    },
    {
      "cell_type": "markdown",
      "metadata": {
        "id": "bwJF3G_M69Gp",
        "colab_type": "text"
      },
      "source": [
        "GPUs are a safer bet for fast machine learning because, at its heart, data science model training is composed of simple matrix math calculations, the speed of which can be greatly enhanced if the computations can be carried out in parallel.\n",
        "\n",
        "CPUs are best at handling single, more complex calculations sequentially, while GPUs are better at handling multiple but simpler calculations in parallel.\n",
        "\n",
        "GPU compute instances will typically cost 2-3x that of CPU compute instances, so unless you’re seeing 2-3x performance gains in your GPU-based training models, go with CPUs."
      ]
    },
    {
      "cell_type": "code",
      "metadata": {
        "id": "q7wpAJTA6-th",
        "colab_type": "code",
        "colab": {}
      },
      "source": [
        ""
      ],
      "execution_count": null,
      "outputs": []
    }
  ]
}